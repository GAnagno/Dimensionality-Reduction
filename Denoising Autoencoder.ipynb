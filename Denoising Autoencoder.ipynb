{
 "cells": [
  {
   "cell_type": "markdown",
   "metadata": {},
   "source": [
    "# Denoising Autoencoder"
   ]
  },
  {
   "cell_type": "code",
   "execution_count": 1,
   "metadata": {},
   "outputs": [],
   "source": [
    "import input_data\n",
    "import tensorflow as tf\n",
    "from tensorflow.python import control_flow_ops\n",
    "import time, argparse"
   ]
  },
  {
   "cell_type": "code",
   "execution_count": 2,
   "metadata": {},
   "outputs": [],
   "source": [
    "# Architecture\n",
    "n_encoder_hidden_1 = 1000\n",
    "n_encoder_hidden_2 = 500\n",
    "n_encoder_hidden_3 = 250\n",
    "n_decoder_hidden_1 = 250\n",
    "n_decoder_hidden_2 = 500\n",
    "n_decoder_hidden_3 = 1000"
   ]
  },
  {
   "cell_type": "code",
   "execution_count": 3,
   "metadata": {},
   "outputs": [],
   "source": [
    "# Parameters\n",
    "learning_rate = 0.01\n",
    "training_epochs = 200\n",
    "batch_size = 100\n",
    "display_step = 1"
   ]
  },
  {
   "cell_type": "code",
   "execution_count": 5,
   "metadata": {},
   "outputs": [],
   "source": [
    "def corrupt_input(x):\n",
    "    corrupting_matrix = tf.random.uniform(\n",
    "        shape=tf.shape(x), minval=0, maxval=2, dtype=tf.dtypes.int32)\n",
    "    return x * tf.cast(corrupting_matrix, tf.dtypes.float32)"
   ]
  },
  {
   "cell_type": "code",
   "execution_count": 6,
   "metadata": {},
   "outputs": [],
   "source": [
    "def layer_batch_norm(x, n_out, phase_train):\n",
    "    beta_init = tf.compat.v1.constant_initializer(value=0.0, dtype=tf.float32)\n",
    "    gamma_init = tf.compat.v1.constant_initializer(value=1.0, dtype=tf.float32)\n",
    "\n",
    "    beta = tf.compat.v1.get_variable(\"beta\", [n_out], initializer=beta_init)\n",
    "    gamma = tf.compat.v1.get_variable(\"gamma\", [n_out], initializer=gamma_init)\n",
    "\n",
    "    batch_mean, batch_var = tf.nn.moments(x, [0], name='moments')\n",
    "    ema = tf.train.ExponentialMovingAverage(decay=0.9)\n",
    "    ema_apply_op = ema.apply([batch_mean, batch_var])\n",
    "    ema_mean, ema_var = ema.average(batch_mean), ema.average(batch_var)\n",
    "\n",
    "    def mean_var_with_update():\n",
    "        with tf.control_dependencies([ema_apply_op]):\n",
    "            return tf.identity(batch_mean), tf.identity(batch_var)\n",
    "\n",
    "    mean, var = control_flow_ops.cond(phase_train, mean_var_with_update,\n",
    "                                      lambda: (ema_mean, ema_var))\n",
    "\n",
    "    reshaped_x = tf.reshape(x, [-1, 1, 1, n_out])\n",
    "    normed = tf.nn.batch_norm_with_global_normalization(reshaped_x, mean, var,\n",
    "                                                        beta, gamma, 1e-3, True)\n",
    "    return tf.reshape(normed, [-1, n_out])\n"
   ]
  },
  {
   "cell_type": "code",
   "execution_count": 7,
   "metadata": {},
   "outputs": [],
   "source": [
    "def layer(input, weight_shape, bias_shape, phase_train):\n",
    "    weight_init = tf.random_normal_initializer(\n",
    "        stddev=(1.0 / weight_shape[0])**0.5)\n",
    "    bias_init = tf.constant_initializer(value=0)\n",
    "    W = tf.compat.v1.get_variable(\"W\", weight_shape, initializer=weight_init)\n",
    "    b = tf.compat.v1.get_variable(\"b\", bias_shape, initializer=bias_init)\n",
    "    logits = tf.matmul(input, W) + b\n",
    "    return tf.nn.sigmoid(layer_batch_norm(logits, weight_shape[1], phase_train))"
   ]
  },
  {
   "cell_type": "code",
   "execution_count": 9,
   "metadata": {},
   "outputs": [],
   "source": [
    "def encoder(x, n_code, phase_train):\n",
    "    with tf.compat.v1.variable_scope(\"encoder\"):\n",
    "        with tf.compat.v1.variable_scope(\"hidden_1\"):\n",
    "            hidden_1 = layer(x, [784, n_encoder_hidden_1], [n_encoder_hidden_1],\n",
    "                             phase_train)\n",
    "\n",
    "        with tf.compat.v1.variable_scope(\"hidden_2\"):\n",
    "            hidden_2 = layer(hidden_1, [n_encoder_hidden_1, n_encoder_hidden_2],\n",
    "                             [n_encoder_hidden_2], phase_train)\n",
    "\n",
    "        with tf.compat.v1.variable_scope(\"hidden_3\"):\n",
    "            hidden_3 = layer(hidden_2, [n_encoder_hidden_2, n_encoder_hidden_3],\n",
    "                             [n_encoder_hidden_3], phase_train)\n",
    "\n",
    "        with tf.compat.v1.variable_scope(\"code\"):\n",
    "            code = layer(hidden_3, [n_encoder_hidden_3, n_code], [n_code], phase_train)\n",
    "\n",
    "    return code"
   ]
  },
  {
   "cell_type": "code",
   "execution_count": 10,
   "metadata": {},
   "outputs": [],
   "source": [
    "def decoder(code, n_code, phase_train):\n",
    "    with tf.compat.v1.variable_scope(\"decoder\"):\n",
    "        with tf.compat.v1.variable_scope(\"hidden_1\"):\n",
    "            hidden_1 = layer(code, [n_code, n_decoder_hidden_1],\n",
    "                             [n_decoder_hidden_1], phase_train)\n",
    "\n",
    "        with tf.compat.v1.variable_scope(\"hidden_2\"):\n",
    "            hidden_2 = layer(hidden_1, [n_decoder_hidden_1, n_decoder_hidden_2],\n",
    "                             [n_decoder_hidden_2], phase_train)\n",
    "\n",
    "        with tf.compat.v1.variable_scope(\"hidden_3\"):\n",
    "            hidden_3 = layer(hidden_2, [n_decoder_hidden_2, n_decoder_hidden_3],\n",
    "                             [n_decoder_hidden_3], phase_train)\n",
    "\n",
    "        with tf.compat.v1.variable_scope(\"output\"):\n",
    "            output = layer(hidden_3, [n_decoder_hidden_3, 784], [784], phase_train)\n",
    "\n",
    "    return output"
   ]
  },
  {
   "cell_type": "code",
   "execution_count": 11,
   "metadata": {},
   "outputs": [],
   "source": [
    "def loss(output, x):\n",
    "    with tf.compat.v1.variable_scope(\"training\"):\n",
    "        l2 = tf.sqrt(tf.reduce_sum(tf.square(tf.subtract(output, x)), 1))\n",
    "        train_loss = tf.reduce_mean(l2)\n",
    "        train_summary_op = tf.compat.v1.summary.scalar(\"train_cost\", train_loss)\n",
    "        return train_loss, train_summary_op"
   ]
  },
  {
   "cell_type": "code",
   "execution_count": 12,
   "metadata": {},
   "outputs": [],
   "source": [
    "def training(cost, global_step):\n",
    "    optimizer = tf.compat.v1.train.AdamOptimizer(learning_rate=0.001, beta1=0.9, beta2=0.999, epsilon=1e-08,\n",
    "        use_locking=False, name='Adam')\n",
    "    train_op = optimizer.minimize(cost, global_step=global_step)\n",
    "    return train_op"
   ]
  },
  {
   "cell_type": "code",
   "execution_count": 13,
   "metadata": {},
   "outputs": [],
   "source": [
    "def image_summary(label, tensor):\n",
    "    tensor_reshaped = tf.reshape(tensor, [-1, 28, 28, 1])\n",
    "    return tf.compat.v1.summary.image(label, tensor_reshaped)"
   ]
  },
  {
   "cell_type": "code",
   "execution_count": 14,
   "metadata": {},
   "outputs": [],
   "source": [
    "def evaluate(output, x):\n",
    "    with tf.compat.v1.variable_scope(\"validation\"):\n",
    "        in_im_op = image_summary(\"input_image\", x)\n",
    "        out_im_op = image_summary(\"output_image\", output)\n",
    "        l2 = tf.sqrt(tf.reduce_sum(tf.square(tf.subtract(output, x, name=\"val_diff\")), 1))\n",
    "        val_loss = tf.reduce_mean(l2)\n",
    "        val_summary_op = tf.compat.v1.summary.scalar(\"val_cost\", val_loss)\n",
    "        return val_loss, in_im_op, out_im_op, val_summary_op"
   ]
  },
  {
   "cell_type": "code",
   "execution_count": 15,
   "metadata": {},
   "outputs": [],
   "source": [
    "n_code = str(2)"
   ]
  },
  {
   "cell_type": "code",
   "execution_count": 16,
   "metadata": {},
   "outputs": [
    {
     "name": "stdout",
     "output_type": "stream",
     "text": [
      "Extracting data/train-images-idx3-ubyte.gz\n",
      "Extracting data/train-labels-idx1-ubyte.gz\n",
      "Extracting data/t10k-images-idx3-ubyte.gz\n",
      "Extracting data/t10k-labels-idx1-ubyte.gz\n"
     ]
    }
   ],
   "source": [
    "mnist = input_data.read_data_sets(\"data/\", one_hot=True)"
   ]
  },
  {
   "cell_type": "code",
   "execution_count": null,
   "metadata": {},
   "outputs": [],
   "source": [
    "with tf.Graph().as_default():\n",
    "\n",
    "    with tf.compat.v1.variable_scope(\"autoencoder_model\"):\n",
    "\n",
    "        x = tf.compat.v1.placeholder(\"float\", [None, 784]) # mnist data image of shape 28*28=784\n",
    "        corrupt = tf.compat.v1.placeholder(tf.float32)\n",
    "        phase_train = tf.compat.v1.placeholder(tf.bool)\n",
    "        c_x = tf.compat.v1.placeholder(\"float\", [None, 784])\n",
    "        c_x = (corrupt_input(x) * corrupt) + (x * (1 - corrupt))\n",
    "\n",
    "        code = encoder(x, int(n_code), phase_train)\n",
    "\n",
    "        output = decoder(code, int(n_code), phase_train)\n",
    "\n",
    "        cost, train_summary_op = loss(output, x)\n",
    "\n",
    "        global_step = tf.Variable(0, name='global_step', trainable=False)\n",
    "\n",
    "        train_op = training(cost, global_step)\n",
    "\n",
    "        eval_op, in_im_op, out_im_op, val_summary_op = evaluate(output, x)\n",
    "\n",
    "        summary_op = tf.compat.v1.summary.merge_all()\n",
    "\n",
    "        saver = tf.compat.v1.train.Saver(max_to_keep=200)\n",
    "\n",
    "        sess = tf.compat.v1.Session()\n",
    "\n",
    "        train_writer = tf.compat.v1.summary.FileWriter(\"dn_mnist_autoencoder_hidden=\" + str(n_code) + \"_logs/\",\n",
    "                                            graph=sess.graph)\n",
    "\n",
    "        val_writer = tf.compat.v1.summary.FileWriter(\"dn_mnist_autoencoder_hidden=\" + str(n_code) + \"_logs/\",\n",
    "                                            graph=sess.graph)\n",
    "\n",
    "        init_op = tf.compat.v1.global_variables_initializer()\n",
    "\n",
    "        sess.run(init_op)\n",
    "\n",
    "        # Training cycle\n",
    "        for epoch in range(training_epochs):\n",
    "\n",
    "            avg_cost = 0.\n",
    "            total_batch = int(mnist.train.num_examples/batch_size)\n",
    "            # Loop over all batches\n",
    "            for i in range(total_batch):\n",
    "                minibatch_x, minibatch_y = mnist.train.next_batch(batch_size)\n",
    "                # Fit training using batch data\n",
    "                _, new_cost, train_summary = sess.run([train_op, cost, train_summary_op], feed_dict={x: minibatch_x, phase_train: True})\n",
    "                train_writer.add_summary(train_summary, sess.run(global_step))\n",
    "                # Compute average loss\n",
    "                avg_cost += new_cost/total_batch\n",
    "                \n",
    "            # Display logs per epoch step\n",
    "            if epoch % display_step == 0:\n",
    "                print(\"Epoch:\", '%04d' % (epoch+1), \"cost =\", \"{:.9f}\".format(avg_cost))\n",
    "\n",
    "                train_writer.add_summary(train_summary, sess.run(global_step))\n",
    "\n",
    "                validation_loss, in_im, out_im, val_summary = sess.run([eval_op, in_im_op, out_im_op, val_summary_op], feed_dict={x: mnist.validation.images, phase_train: False})\n",
    "                val_writer.add_summary(in_im, sess.run(global_step))\n",
    "                val_writer.add_summary(out_im, sess.run(global_step))\n",
    "                val_writer.add_summary(val_summary, sess.run(global_step))\n",
    "                print(\"Validation Loss:\", validation_loss)\n",
    "                \n",
    "\n",
    "                saver.save(sess, \"dn_mnist_autoencoder_hidden=\" + n_code + \"_logs/model-checkpoint-\" + '%04d' % (epoch+1), global_step=global_step)\n",
    "   \n",
    "\n",
    "        print(\"Optimization Finished!\")\n",
    "\n",
    "\n",
    "        test_loss = sess.run(eval_op, feed_dict={x: mnist.test.images, phase_train: False})\n",
    "        \n",
    "        print(\"Test Loss:\", test_loss)"
   ]
  }
 ],
 "metadata": {
  "kernelspec": {
   "display_name": "Python 3",
   "language": "python",
   "name": "python3"
  },
  "language_info": {
   "codemirror_mode": {
    "name": "ipython",
    "version": 3
   },
   "file_extension": ".py",
   "mimetype": "text/x-python",
   "name": "python",
   "nbconvert_exporter": "python",
   "pygments_lexer": "ipython3",
   "version": "3.7.6"
  }
 },
 "nbformat": 4,
 "nbformat_minor": 4
}
