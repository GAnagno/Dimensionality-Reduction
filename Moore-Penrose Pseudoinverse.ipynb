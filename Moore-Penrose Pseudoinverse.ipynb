{
 "cells": [
  {
   "cell_type": "markdown",
   "metadata": {},
   "source": [
    "# The Moore-Penrose Pseudoinverse"
   ]
  },
  {
   "cell_type": "code",
   "execution_count": 1,
   "metadata": {},
   "outputs": [],
   "source": [
    "import numpy as np\n",
    "import matplotlib.pyplot as plt\n",
    "import seaborn as sns"
   ]
  },
  {
   "cell_type": "code",
   "execution_count": 2,
   "metadata": {},
   "outputs": [
    {
     "name": "stdout",
     "output_type": "stream",
     "text": [
      "Populating the interactive namespace from numpy and matplotlib\n"
     ]
    }
   ],
   "source": [
    "# Plot style\n",
    "sns.set()\n",
    "%pylab inline\n",
    "pylab.rcParams['figure.figsize'] = (4, 4)"
   ]
  },
  {
   "cell_type": "code",
   "execution_count": 25,
   "metadata": {},
   "outputs": [
    {
     "name": "stdout",
     "output_type": "stream",
     "text": [
      "[[7 2]\n",
      " [3 4]\n",
      " [5 3]]\n"
     ]
    }
   ],
   "source": [
    "A = np.array([[7, 2], [3, 4], [5, 3]])\n",
    "print(A)"
   ]
  },
  {
   "cell_type": "code",
   "execution_count": 26,
   "metadata": {},
   "outputs": [],
   "source": [
    "U, D, V = np.linalg.svd(A)"
   ]
  },
  {
   "cell_type": "code",
   "execution_count": 27,
   "metadata": {},
   "outputs": [
    {
     "name": "stdout",
     "output_type": "stream",
     "text": [
      "[[-0.69366543  0.59343205 -0.40824829]\n",
      " [-0.4427092  -0.79833696 -0.40824829]\n",
      " [-0.56818732 -0.10245245  0.81649658]]\n"
     ]
    }
   ],
   "source": [
    "print(U)"
   ]
  },
  {
   "cell_type": "code",
   "execution_count": 28,
   "metadata": {},
   "outputs": [
    {
     "name": "stdout",
     "output_type": "stream",
     "text": [
      "[10.25142677  2.62835484]\n"
     ]
    }
   ],
   "source": [
    "print(D)"
   ]
  },
  {
   "cell_type": "code",
   "execution_count": 29,
   "metadata": {},
   "outputs": [
    {
     "name": "stdout",
     "output_type": "stream",
     "text": [
      "[[-0.88033817 -0.47434662]\n",
      " [ 0.47434662 -0.88033817]]\n"
     ]
    }
   ],
   "source": [
    "print(V)"
   ]
  },
  {
   "cell_type": "code",
   "execution_count": 31,
   "metadata": {},
   "outputs": [
    {
     "name": "stdout",
     "output_type": "stream",
     "text": [
      "[[0. 0. 0.]\n",
      " [0. 0. 0.]]\n"
     ]
    }
   ],
   "source": [
    "D_plus = np.zeros((A.shape[0], A.shape[1])).T\n",
    "print(D_plus)"
   ]
  },
  {
   "cell_type": "code",
   "execution_count": 32,
   "metadata": {},
   "outputs": [
    {
     "name": "stdout",
     "output_type": "stream",
     "text": [
      "[[0.0975474  0.         0.        ]\n",
      " [0.         0.38046613 0.        ]]\n"
     ]
    }
   ],
   "source": [
    "D_plus[:D.shape[0], :D.shape[0]] = np.linalg.inv(np.diag(D))\n",
    "print(D_plus)"
   ]
  },
  {
   "cell_type": "code",
   "execution_count": 33,
   "metadata": {},
   "outputs": [
    {
     "name": "stdout",
     "output_type": "stream",
     "text": [
      "[[ 0.16666667 -0.10606061  0.03030303]\n",
      " [-0.16666667  0.28787879  0.06060606]]\n"
     ]
    }
   ],
   "source": [
    "A_plus = V.T.dot(D_plus).dot(U.T)\n",
    "print(A_plus)"
   ]
  },
  {
   "cell_type": "code",
   "execution_count": 34,
   "metadata": {},
   "outputs": [
    {
     "name": "stdout",
     "output_type": "stream",
     "text": [
      "[[ 0.16666667 -0.10606061  0.03030303]\n",
      " [-0.16666667  0.28787879  0.06060606]]\n"
     ]
    }
   ],
   "source": [
    "print(np.linalg.pinv(A))"
   ]
  },
  {
   "cell_type": "code",
   "execution_count": 36,
   "metadata": {},
   "outputs": [
    {
     "name": "stdout",
     "output_type": "stream",
     "text": [
      "[[1.00000000e+00 2.63677968e-16]\n",
      " [5.55111512e-17 1.00000000e+00]]\n"
     ]
    }
   ],
   "source": [
    "print(A_plus.dot(A))"
   ]
  },
  {
   "cell_type": "code",
   "execution_count": 37,
   "metadata": {},
   "outputs": [
    {
     "name": "stdout",
     "output_type": "stream",
     "text": [
      "[[ 0.16666667 -0.10606061  0.03030303]\n",
      " [-0.16666667  0.28787879  0.06060606]]\n"
     ]
    }
   ],
   "source": [
    "A_plus_1 = np.linalg.inv(A.T.dot(A)).dot(A.T)\n",
    "print(A_plus_1)"
   ]
  },
  {
   "cell_type": "markdown",
   "metadata": {},
   "source": [
    "## Pseudoinverse solves overdetermined systems of linear equations"
   ]
  },
  {
   "cell_type": "code",
   "execution_count": 38,
   "metadata": {},
   "outputs": [
    {
     "data": {
      "image/png": "[encoded data removed]",
      "text/plain": [
       "<Figure size 288x288 with 1 Axes>"
      ]
     },
     "metadata": {
      "needs_background": "light"
     },
     "output_type": "display_data"
    }
   ],
   "source": [
    "x1 = np.linspace(-5, 5, 1000)\n",
    "x2_1 = -2*x1 + 2\n",
    "x2_2 = 4*x1 + 8\n",
    "x2_3 = -1*x1 + 2\n",
    "\n",
    "plt.plot(x1, x2_1)\n",
    "plt.plot(x1, x2_2)\n",
    "plt.plot(x1, x2_3)\n",
    "plt.xlim(-2., 1)\n",
    "plt.ylim(1, 5)\n",
    "plt.show()"
   ]
  },
  {
   "cell_type": "code",
   "execution_count": 39,
   "metadata": {},
   "outputs": [
    {
     "name": "stdout",
     "output_type": "stream",
     "text": [
      "[[-2 -1]\n",
      " [ 4 -1]\n",
      " [-1 -1]]\n"
     ]
    }
   ],
   "source": [
    "A = np.array([[-2, -1], [4, -1], [-1, -1]])\n",
    "print(A)"
   ]
  },
  {
   "cell_type": "code",
   "execution_count": 40,
   "metadata": {},
   "outputs": [
    {
     "name": "stdout",
     "output_type": "stream",
     "text": [
      "[[-0.11290323  0.17741935 -0.06451613]\n",
      " [-0.37096774 -0.27419355 -0.35483871]]\n"
     ]
    }
   ],
   "source": [
    "A_plus = np.linalg.pinv(A)\n",
    "print(A_plus)"
   ]
  },
  {
   "cell_type": "code",
   "execution_count": 41,
   "metadata": {},
   "outputs": [
    {
     "name": "stdout",
     "output_type": "stream",
     "text": [
      "[[-2]\n",
      " [-8]\n",
      " [-2]]\n"
     ]
    }
   ],
   "source": [
    "b = np.array([[-2], [-8], [-2]])\n",
    "print(b)"
   ]
  },
  {
   "cell_type": "code",
   "execution_count": 42,
   "metadata": {},
   "outputs": [
    {
     "name": "stdout",
     "output_type": "stream",
     "text": [
      "[[-1.06451613]\n",
      " [ 3.64516129]]\n"
     ]
    }
   ],
   "source": [
    "res = A_plus.dot(b)\n",
    "print(res)"
   ]
  },
  {
   "cell_type": "code",
   "execution_count": 43,
   "metadata": {},
   "outputs": [
    {
     "data": {
      "image/png": "[encoded data removed]",
      "text/plain": [
       "<Figure size 288x288 with 1 Axes>"
      ]
     },
     "metadata": {
      "needs_background": "light"
     },
     "output_type": "display_data"
    }
   ],
   "source": [
    "plt.plot(x1, x2_1)\n",
    "plt.plot(x1, x2_2)\n",
    "plt.plot(x1, x2_3)\n",
    "plt.xlim(-2., 1)\n",
    "plt.ylim(1, 5)\n",
    "\n",
    "plt.scatter(res[0], res[1])\n",
    "\n",
    "plt.show()"
   ]
  },
  {
   "cell_type": "code",
   "execution_count": null,
   "metadata": {},
   "outputs": [],
   "source": []
  }
 ],
 "metadata": {
  "kernelspec": {
   "display_name": "TensorFlow-GPU",
   "language": "python",
   "name": "tf-gpu"
  },
  "language_info": {
   "codemirror_mode": {
    "name": "ipython",
    "version": 3
   },
   "file_extension": ".py",
   "mimetype": "text/x-python",
   "name": "python",
   "nbconvert_exporter": "python",
   "pygments_lexer": "ipython3",
   "version": "3.6.8"
  }
 },
 "nbformat": 4,
 "nbformat_minor": 2
}
